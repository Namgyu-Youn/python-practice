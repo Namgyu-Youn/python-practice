{
  "nbformat": 4,
  "nbformat_minor": 0,
  "metadata": {
    "colab": {
      "provenance": []
    },
    "kernelspec": {
      "name": "python3",
      "display_name": "Python 3"
    },
    "language_info": {
      "name": "python"
    }
  },
  "cells": [
    {
      "cell_type": "markdown",
      "source": [
        "- 책 '파이썬 알고리즘 인터뷰'를 기반으로 코딩 테스트를 준비하는 Colab Notebook 입니다.\n",
        "- 책 정보 : https://www.aladin.co.kr/shop/wproduct.aspx?ItemId=245495826&start=slayer"
      ],
      "metadata": {
        "id": "dcC9_nO5dS_5"
      }
    },
    {
      "cell_type": "markdown",
      "source": [
        "# 02_01~03"
      ],
      "metadata": {
        "id": "JDwQcvnAdL4w"
      }
    },
    {
      "cell_type": "code",
      "execution_count": null,
      "metadata": {
        "colab": {
          "base_uri": "https://localhost:8080/"
        },
        "id": "7xjkebPEU6Ad",
        "outputId": "c310f1bc-588d-4adf-cf97-3e710f969808"
      },
      "outputs": [
        {
          "output_type": "stream",
          "name": "stdout",
          "text": [
            "<class 'int'>\n",
            "<class 'str'>\n"
          ]
        }
      ],
      "source": [
        "# Type hint : \"'변수':'type'\"으로 표기. 어떤 type인지 알려줌(code에 영향 x)\n",
        "a:int = 21\n",
        "print(type(a))\n",
        "\n",
        "b:str = \"Arsenal\"\n",
        "print(type(b))"
      ]
    },
    {
      "cell_type": "code",
      "source": [
        "# List Comprehension : list를 간결하게 생성.\n",
        "# map, filter같은 Funtional 기능도 지원함\n",
        "# 표현식 : [표현식 for 항목 in 시퀀스 (if 조건)]\n",
        "print(list(2 * x for x in [1, 2]))\n",
        "\n",
        "# lambda(간단한, 무명함수 생성) / 표현식 : [lambda 변수:표현식, (범위)]\n",
        "# lambda를 사용하면 반복문들보다 memory 소모가 작다.\n",
        "print(list(map(lambda x: x + 10, [1, 2, 3])))"
      ],
      "metadata": {
        "colab": {
          "base_uri": "https://localhost:8080/"
        },
        "id": "rP8T6lw9WRJa",
        "outputId": "41d725fe-0ebe-4f9b-8dc2-4f211557c56d"
      },
      "execution_count": null,
      "outputs": [
        {
          "output_type": "stream",
          "name": "stdout",
          "text": [
            "[2, 4]\n",
            "[11, 12, 13]\n"
          ]
        }
      ]
    },
    {
      "cell_type": "code",
      "source": [
        "# Generator : loop의 반복 동작을 제어함\n",
        "# memory 공간을 적게 차지함 (효율성)\n",
        "\n",
        "def solution(n) :\n",
        "  n = 0\n",
        "  while True :\n",
        "    n += 1\n",
        "    yield n # 종료 조건이 없는데도, 계속 loop로 리턴함\n",
        "\n",
        "solution(10) # n은 계속 증가해서 next()를 이용해 추출해야함"
      ],
      "metadata": {
        "colab": {
          "base_uri": "https://localhost:8080/"
        },
        "id": "aaNaBpnzX87k",
        "outputId": "551ec990-e79b-4e45-c44d-4fc750d3657a"
      },
      "execution_count": null,
      "outputs": [
        {
          "output_type": "execute_result",
          "data": {
            "text/plain": [
              "<generator object solution at 0x7f41129ddc40>"
            ]
          },
          "metadata": {},
          "execution_count": 16
        }
      ]
    },
    {
      "cell_type": "code",
      "source": [
        "# Generator 예제 - range에서의 memory 효율\n",
        "a = [n for n in range(10000)]\n",
        "b = range(1000)\n",
        "\n",
        "import sys\n",
        "print(sys.getsizeof(a)) # for문은 a에 실행값을 저장하고 다시 함수를 시작 -> memory 소모가 크다.\n",
        "print(sys.getsizeof(b)) # b는 yield 방식으로 정의됨"
      ],
      "metadata": {
        "colab": {
          "base_uri": "https://localhost:8080/"
        },
        "id": "uQQifKVYYn1f",
        "outputId": "f09600df-861c-404e-8746-5b31082414cc"
      },
      "execution_count": null,
      "outputs": [
        {
          "output_type": "stream",
          "name": "stdout",
          "text": [
            "85176\n",
            "48\n"
          ]
        }
      ]
    },
    {
      "cell_type": "code",
      "source": [
        "# enumerate() : iterable object를 index를 포함한 eumerate object로 반환함\n",
        "a = [1, 2, 3, 24, 25, 5]\n",
        "print(enumerate(a))\n",
        "print(list(enumerate(a)))"
      ],
      "metadata": {
        "colab": {
          "base_uri": "https://localhost:8080/"
        },
        "id": "zZLB-YsLscha",
        "outputId": "c3220109-a4e5-414b-b7b5-abcd5fba6a85"
      },
      "execution_count": null,
      "outputs": [
        {
          "output_type": "stream",
          "name": "stdout",
          "text": [
            "<enumerate object at 0x7c6846f52000>\n",
            "[(0, 1), (1, 2), (2, 3), (3, 24), (4, 25), (5, 5)]\n"
          ]
        }
      ]
    },
    {
      "cell_type": "code",
      "source": [
        "# enumerate() 예제\n",
        "a = ['a1', 'a2', 'a3']\n",
        "for i, v in enumerate(a) :\n",
        "  print(i, v)"
      ],
      "metadata": {
        "colab": {
          "base_uri": "https://localhost:8080/"
        },
        "id": "H1olHlWas4oV",
        "outputId": "ce79cf7f-07d3-4550-9aa0-9d53a344fc32"
      },
      "execution_count": null,
      "outputs": [
        {
          "output_type": "stream",
          "name": "stdout",
          "text": [
            "0 a1\n",
            "1 a2\n",
            "2 a3\n"
          ]
        }
      ]
    },
    {
      "cell_type": "code",
      "source": [
        "# print문 기본\n",
        "print('A1', 'A2', 'A3', sep=' ')  # str 사이에 무언가를 넣고 싶을 때\n",
        "\n",
        "print('AA', end = ' ') # 줄바꿈 없이 text 입력하고 싶을 때\n",
        "print('BB')\n",
        "\n",
        "a = ['A', 'B', 'C']\n",
        "print(' '.join(a)) # list의 요소들은 join() 이용하기\n",
        "\n",
        "print('{0} {1}'.format(3+1, \"Arsenal\")) # formating의 기본. {n} 꼴로 변수를 지정"
      ],
      "metadata": {
        "colab": {
          "base_uri": "https://localhost:8080/"
        },
        "id": "sHyQz-9mts9t",
        "outputId": "cf149ae8-d999-4ba8-acf3-bf88dd40cd18"
      },
      "execution_count": null,
      "outputs": [
        {
          "output_type": "stream",
          "name": "stdout",
          "text": [
            "A1 A2 A3\n",
            "AA BB\n",
            "A B C\n",
            "4 Arsenal\n"
          ]
        }
      ]
    },
    {
      "cell_type": "code",
      "source": [
        "# locals : 저장된 모든 변수를 출력해줌\n",
        "import pprint\n",
        "pprint.pprint(locals())"
      ],
      "metadata": {
        "id": "khaGtdivuCYc"
      },
      "execution_count": null,
      "outputs": []
    },
    {
      "cell_type": "code",
      "source": [
        "# 깨끗한 code를 위해서는 Camel Case가 아닌, Snake Case를 사용할 것\n",
        "# Camel : ArsenalWonTheLeague (blank를 대문자로 구분)\n",
        "# Snake : Arsenal_won_the_league (blank를 '_'로 구분)\n",
        "\n",
        "# 함수의 기본값으로 mutable object를 주는 것을 삼가할 것\n",
        "# 함수가 object를 수정하면, 기본값도 변경되기 때문\n",
        "def solution_1(a, b = []) : # b에 요소가 추가되면, 기본값도 변경됨\n",
        "\n",
        "def solution_2(a, b=None) :\n",
        "  if b is None :\n",
        "    b = []"
      ],
      "metadata": {
        "id": "5BffNy-4xE0p"
      },
      "execution_count": null,
      "outputs": []
    },
    {
      "cell_type": "markdown",
      "source": [
        "5장. list, dictionary"
      ],
      "metadata": {
        "id": "9vsyTd4H62AF"
      }
    },
    {
      "cell_type": "code",
      "source": [
        "# list에서 주요 연산의 시간 복잡도 (p.122)\n",
        "# list 전체를 스캔해야하면 O(n), 그렇지 않다면 대부분 O(1)이다.\n",
        "\n",
        "# 시간 복잡도가 O(1)인 경우\n",
        "# len(a), a[i], a.append(i), a.pop()\n",
        "\n",
        "# 시간 복잡도가 O(n)인 경우\n",
        "# i in a, a.count(i), a.append(i), a.pop(), a[i:i+n+1], del a[i], min(a), max(a), a.reverse()\n",
        "# a.pop(i)는 list의 i번째 요소를 추출하므로, 전체를 스캔해야함."
      ],
      "metadata": {
        "id": "-47pYuAK7AJg"
      },
      "execution_count": null,
      "outputs": []
    },
    {
      "cell_type": "code",
      "source": [
        "# list 활용\n",
        "a = [i for i in range(2, 10, 2)]\n",
        "print(a)\n",
        "\n",
        "a.insert(3, 0) # 3번쨰 자리에 0을 삽입함\n",
        "a.insert(3, 'Arsenal')\n",
        "print(a)\n",
        "\n",
        "try :\n",
        "  print(a[6]) # a의 index는 5까지임 ->IndexError 발생\n",
        "except IndexError :\n",
        "  print('6 is unable index')\n",
        "\n",
        "del a[3] # index에 해당하는 요소를 지울 때\n",
        "print(a)\n",
        "\n",
        "a.remove(0) # 값에 해당하는 요소를 지울 떼\n",
        "print(a)\n",
        "\n",
        "a.pop(2) # a에서 index가 2인 값을 뽑아냄 (제거하면서)\n",
        "print(a)"
      ],
      "metadata": {
        "colab": {
          "base_uri": "https://localhost:8080/"
        },
        "id": "LHI3nIJ47GFI",
        "outputId": "6487f262-7859-4c8c-8374-9fac2db692f0"
      },
      "execution_count": null,
      "outputs": [
        {
          "output_type": "stream",
          "name": "stdout",
          "text": [
            "[2, 4, 6, 8]\n",
            "[2, 4, 6, 'Arsenal', 0, 8]\n",
            "6 is unable index\n",
            "[2, 4, 6, 0, 8]\n",
            "[2, 4, 6, 8]\n",
            "[2, 4, 8]\n"
          ]
        }
      ]
    },
    {
      "cell_type": "code",
      "source": [
        "# dictionary 활용\n",
        "a = {'key1':'value1', 'key2':'value2', 'key3':'value3'}\n",
        "\n",
        "try : a['key4'] # key4는 없으므로 KeyError 발생\n",
        "except KeyError : print('key4 is not exist')\n",
        "\n",
        "try : del a['value1'] # dic의 index는 key값이 기준이다 value로 조회불가함\n",
        "except KeyError : print('You should input key')"
      ],
      "metadata": {
        "colab": {
          "base_uri": "https://localhost:8080/"
        },
        "id": "9ehlXOji7IqP",
        "outputId": "f77e9fa2-2b63-4c2b-9a09-69f045d9c4c0"
      },
      "execution_count": null,
      "outputs": [
        {
          "output_type": "stream",
          "name": "stdout",
          "text": [
            "key4 is not exist\n",
            "You should input key\n"
          ]
        }
      ]
    },
    {
      "cell_type": "markdown",
      "source": [
        "# 02_04"
      ],
      "metadata": {
        "id": "irgmpZnndiIk"
      }
    },
    {
      "cell_type": "code",
      "source": [
        "# list에서 주요 연산의 시간 복잡도 (p.122)\n",
        "# list 전체를 스캔해야하면 O(n), 그렇지 않다면 대부분 O(1)이다.\n",
        "\n",
        "# 시간 복잡도가 O(1)인 경우\n",
        "# len(a), a[i], a.append(i), a.pop()\n",
        "\n",
        "# 시간 복잡도가 O(n)인 경우\n",
        "# i in a, a.count(i), a.append(i), a.pop(), a[i:i+n+1], del a[i], min(a), max(a), a.reverse()\n",
        "# a.pop(i)는 list의 i번째 요소를 추출하므로, 전체를 스캔해야함."
      ],
      "metadata": {
        "id": "Bz_d7tzvdjpl"
      },
      "execution_count": 1,
      "outputs": []
    },
    {
      "cell_type": "code",
      "source": [
        "# list 활용\n",
        "a = [i for i in range(2, 10, 2)]\n",
        "print(a)\n",
        "\n",
        "a.insert(3, 0) # 3번쨰 자리에 0을 삽입함\n",
        "a.insert(3, 'Arsenal')\n",
        "print(a)\n",
        "\n",
        "try :\n",
        "  print(a[6]) # a의 index는 5까지임 ->IndexError 발생\n",
        "except IndexError :\n",
        "  print('6 is unable index')\n",
        "\n",
        "del a[3] # index에 해당하는 요소를 지울 때\n",
        "print(a)\n",
        "\n",
        "a.remove(0) # 값에 해당하는 요소를 지울 떼\n",
        "print(a)\n",
        "\n",
        "a.pop(2) # a에서 index가 2인 값을 뽑아냄 (제거하면서)\n",
        "print(a)"
      ],
      "metadata": {
        "colab": {
          "base_uri": "https://localhost:8080/"
        },
        "id": "C3AwisEPdkWU",
        "outputId": "4ec18058-ab2f-430f-a9c0-bbaa9ec7db05"
      },
      "execution_count": 2,
      "outputs": [
        {
          "output_type": "stream",
          "name": "stdout",
          "text": [
            "[2, 4, 6, 8]\n",
            "[2, 4, 6, 'Arsenal', 0, 8]\n",
            "6 is unable index\n",
            "[2, 4, 6, 0, 8]\n",
            "[2, 4, 6, 8]\n",
            "[2, 4, 8]\n"
          ]
        }
      ]
    },
    {
      "cell_type": "code",
      "source": [
        "# dictionary 활용\n",
        "a = {'key1':'value1', 'key2':'value2', 'key3':'value3'}\n",
        "\n",
        "try : a['key4'] # key4는 없으므로 KeyError 발생\n",
        "except KeyError : print('key4 is not exist')\n",
        "\n",
        "try : del a['value1'] # dic의 index는 key값이 기준이다 value로 조회불가함\n",
        "except KeyError : print('You should input key')"
      ],
      "metadata": {
        "colab": {
          "base_uri": "https://localhost:8080/"
        },
        "id": "QZ4b1JDUdob3",
        "outputId": "4cc1a9ae-5343-4b90-c4e9-1045d1ae532b"
      },
      "execution_count": 3,
      "outputs": [
        {
          "output_type": "stream",
          "name": "stdout",
          "text": [
            "key4 is not exist\n",
            "You should input key\n"
          ]
        }
      ]
    },
    {
      "cell_type": "code",
      "source": [
        "# dictionary module\n",
        "a = collections.defaultdict(int)\n",
        "a['A'] = 4\n",
        "a['B'] = 5\n",
        "a"
      ],
      "metadata": {
        "colab": {
          "base_uri": "https://localhost:8080/",
          "height": 216
        },
        "id": "IQrrXA9UdpxF",
        "outputId": "909bde5b-582a-418a-94e6-9bac0d0d94f1"
      },
      "execution_count": 4,
      "outputs": [
        {
          "output_type": "error",
          "ename": "NameError",
          "evalue": "name 'collections' is not defined",
          "traceback": [
            "\u001b[0;31m---------------------------------------------------------------------------\u001b[0m",
            "\u001b[0;31mNameError\u001b[0m                                 Traceback (most recent call last)",
            "\u001b[0;32m<ipython-input-4-79aa4d9aef8e>\u001b[0m in \u001b[0;36m<cell line: 2>\u001b[0;34m()\u001b[0m\n\u001b[1;32m      1\u001b[0m \u001b[0;31m# dictionary module\u001b[0m\u001b[0;34m\u001b[0m\u001b[0;34m\u001b[0m\u001b[0m\n\u001b[0;32m----> 2\u001b[0;31m \u001b[0ma\u001b[0m \u001b[0;34m=\u001b[0m \u001b[0mcollections\u001b[0m\u001b[0;34m.\u001b[0m\u001b[0mdefaultdict\u001b[0m\u001b[0;34m(\u001b[0m\u001b[0mint\u001b[0m\u001b[0;34m)\u001b[0m\u001b[0;34m\u001b[0m\u001b[0;34m\u001b[0m\u001b[0m\n\u001b[0m\u001b[1;32m      3\u001b[0m \u001b[0ma\u001b[0m\u001b[0;34m[\u001b[0m\u001b[0;34m'A'\u001b[0m\u001b[0;34m]\u001b[0m \u001b[0;34m=\u001b[0m \u001b[0;36m4\u001b[0m\u001b[0;34m\u001b[0m\u001b[0;34m\u001b[0m\u001b[0m\n\u001b[1;32m      4\u001b[0m \u001b[0ma\u001b[0m\u001b[0;34m[\u001b[0m\u001b[0;34m'B'\u001b[0m\u001b[0;34m]\u001b[0m \u001b[0;34m=\u001b[0m \u001b[0;36m5\u001b[0m\u001b[0;34m\u001b[0m\u001b[0;34m\u001b[0m\u001b[0m\n\u001b[1;32m      5\u001b[0m \u001b[0ma\u001b[0m\u001b[0;34m\u001b[0m\u001b[0;34m\u001b[0m\u001b[0m\n",
            "\u001b[0;31mNameError\u001b[0m: name 'collections' is not defined"
          ]
        }
      ]
    },
    {
      "cell_type": "markdown",
      "source": [
        "# 02_06"
      ],
      "metadata": {
        "id": "BsqaQio_dthU"
      }
    },
    {
      "cell_type": "code",
      "source": [
        "# LeetCode 125. Valid Palindrome\n",
        "# s를 list로 변환할 것\n",
        "# list에서 특수문자를 제거+lower한 값 추출\n",
        "def isPalindrome(s: str) -> bool:\n",
        "  s2 = s.replace(\" \",\"\")\n",
        "  s_list = list(s2.lower())\n",
        "\n",
        "# 문자가 alphabet이 아니면, 제거\n",
        "  for i in range(len(s_list)-3) :\n",
        "    if ord('a') <= ord(s_list[i]) <= ord('z') :\n",
        "      pass\n",
        "    else :\n",
        "      del s_list[i]\n",
        "\n",
        "# str이 대칭이면\n",
        "  if s_list == s_list[::-1] :\n",
        "    return True\n",
        "  else :\n",
        "    return False\n",
        "\n",
        "isPalindrome(\"A man, a plan, a canal: Panama\")"
      ],
      "metadata": {
        "colab": {
          "base_uri": "https://localhost:8080/"
        },
        "id": "QDqkJNa0d24f",
        "outputId": "c63d9350-f1ec-434e-8865-34dc07adc084"
      },
      "execution_count": 6,
      "outputs": [
        {
          "output_type": "execute_result",
          "data": {
            "text/plain": [
              "True"
            ]
          },
          "metadata": {},
          "execution_count": 6
        }
      ]
    },
    {
      "cell_type": "code",
      "source": [
        "# 다른 풀이 - ord 사용 x\n",
        "A = \"Ar:4sen:4al\"\n",
        "str.isalnum(A) # isalnum : 문자열이 '알파벳+숫자'인지 판정함"
      ],
      "metadata": {
        "colab": {
          "base_uri": "https://localhost:8080/"
        },
        "id": "a689fiyCd3LL",
        "outputId": "b688ae20-7549-4240-dc2a-58424e69c62d"
      },
      "execution_count": 7,
      "outputs": [
        {
          "output_type": "execute_result",
          "data": {
            "text/plain": [
              "False"
            ]
          },
          "metadata": {},
          "execution_count": 7
        }
      ]
    },
    {
      "cell_type": "code",
      "source": [
        "# LeetCode 344. Reverse String\n",
        "class Solution:\n",
        "  def reverseString(self, s) -> None:\n",
        "    for i in range(len(s)//2) :\n",
        "      s[i], s[-1-i] = s[-1-i], s[i]\n",
        "\n",
        "    print(s)"
      ],
      "metadata": {
        "id": "l8ODvS-Kd6Za"
      },
      "execution_count": 9,
      "outputs": []
    },
    {
      "cell_type": "code",
      "source": [
        "# 937. Reorder Data in Log Files\n",
        "# Log : Letter/Digit\n",
        "# Letter : All words are low-alphabet\n",
        "# Digit : ??"
      ],
      "metadata": {
        "id": "sr1K737Qd7ba"
      },
      "execution_count": 10,
      "outputs": []
    },
    {
      "cell_type": "code",
      "source": [
        "# 819. Most Common Word\n",
        "class Solution:\n",
        "  def mostCommonWord(self, paragraph) :\n",
        "    s = (paragraph.lower()).split(\" \")\n",
        "    index_list = []\n",
        "\n",
        "    for i in range(len(s)) :\n",
        "      index_list.append(s.count(s[i])) # count how frequently it appears\n",
        "\n",
        "    return index_list.index(max(s))\n",
        "\n",
        "A = Solution().mostCommonWord(\"Bob hit a ball, the hit BALL flew far after it was hit.\")"
      ],
      "metadata": {
        "colab": {
          "base_uri": "https://localhost:8080/",
          "height": 305
        },
        "id": "4Lzq-CIVd_0e",
        "outputId": "87be69bb-a3c6-4aa1-8fa2-8a00f7fcd592"
      },
      "execution_count": 15,
      "outputs": [
        {
          "output_type": "error",
          "ename": "ValueError",
          "evalue": "'was' is not in list",
          "traceback": [
            "\u001b[0;31m---------------------------------------------------------------------------\u001b[0m",
            "\u001b[0;31mValueError\u001b[0m                                Traceback (most recent call last)",
            "\u001b[0;32m<ipython-input-15-6bcf646aca0e>\u001b[0m in \u001b[0;36m<cell line: 12>\u001b[0;34m()\u001b[0m\n\u001b[1;32m     10\u001b[0m     \u001b[0;32mreturn\u001b[0m \u001b[0mindex_list\u001b[0m\u001b[0;34m.\u001b[0m\u001b[0mindex\u001b[0m\u001b[0;34m(\u001b[0m\u001b[0mmax\u001b[0m\u001b[0;34m(\u001b[0m\u001b[0ms\u001b[0m\u001b[0;34m)\u001b[0m\u001b[0;34m)\u001b[0m\u001b[0;34m\u001b[0m\u001b[0;34m\u001b[0m\u001b[0m\n\u001b[1;32m     11\u001b[0m \u001b[0;34m\u001b[0m\u001b[0m\n\u001b[0;32m---> 12\u001b[0;31m \u001b[0mA\u001b[0m \u001b[0;34m=\u001b[0m \u001b[0mSolution\u001b[0m\u001b[0;34m(\u001b[0m\u001b[0;34m)\u001b[0m\u001b[0;34m.\u001b[0m\u001b[0mmostCommonWord\u001b[0m\u001b[0;34m(\u001b[0m\u001b[0;34m\"Bob hit a ball, the hit BALL flew far after it was hit.\"\u001b[0m\u001b[0;34m)\u001b[0m\u001b[0;34m\u001b[0m\u001b[0;34m\u001b[0m\u001b[0m\n\u001b[0m",
            "\u001b[0;32m<ipython-input-15-6bcf646aca0e>\u001b[0m in \u001b[0;36mmostCommonWord\u001b[0;34m(self, paragraph)\u001b[0m\n\u001b[1;32m      8\u001b[0m       \u001b[0mindex_list\u001b[0m\u001b[0;34m.\u001b[0m\u001b[0mappend\u001b[0m\u001b[0;34m(\u001b[0m\u001b[0ms\u001b[0m\u001b[0;34m.\u001b[0m\u001b[0mcount\u001b[0m\u001b[0;34m(\u001b[0m\u001b[0ms\u001b[0m\u001b[0;34m[\u001b[0m\u001b[0mi\u001b[0m\u001b[0;34m]\u001b[0m\u001b[0;34m)\u001b[0m\u001b[0;34m)\u001b[0m \u001b[0;31m# count how frequently it appears\u001b[0m\u001b[0;34m\u001b[0m\u001b[0;34m\u001b[0m\u001b[0m\n\u001b[1;32m      9\u001b[0m \u001b[0;34m\u001b[0m\u001b[0m\n\u001b[0;32m---> 10\u001b[0;31m     \u001b[0;32mreturn\u001b[0m \u001b[0mindex_list\u001b[0m\u001b[0;34m.\u001b[0m\u001b[0mindex\u001b[0m\u001b[0;34m(\u001b[0m\u001b[0mmax\u001b[0m\u001b[0;34m(\u001b[0m\u001b[0ms\u001b[0m\u001b[0;34m)\u001b[0m\u001b[0;34m)\u001b[0m\u001b[0;34m\u001b[0m\u001b[0;34m\u001b[0m\u001b[0m\n\u001b[0m\u001b[1;32m     11\u001b[0m \u001b[0;34m\u001b[0m\u001b[0m\n\u001b[1;32m     12\u001b[0m \u001b[0mA\u001b[0m \u001b[0;34m=\u001b[0m \u001b[0mSolution\u001b[0m\u001b[0;34m(\u001b[0m\u001b[0;34m)\u001b[0m\u001b[0;34m.\u001b[0m\u001b[0mmostCommonWord\u001b[0m\u001b[0;34m(\u001b[0m\u001b[0;34m\"Bob hit a ball, the hit BALL flew far after it was hit.\"\u001b[0m\u001b[0;34m)\u001b[0m\u001b[0;34m\u001b[0m\u001b[0;34m\u001b[0m\u001b[0m\n",
            "\u001b[0;31mValueError\u001b[0m: 'was' is not in list"
          ]
        }
      ]
    },
    {
      "cell_type": "code",
      "source": [
        "# 5. Longest Palindromic Substring\n",
        "# Palindromic number : number whicch satisfy \"n == n[::-1]\"\n",
        "# How to decling O(n) : Use two pointer rather than str slicing\n",
        "# Avoid repe mated code!!   ex) for,while\n",
        "class Solution:\n",
        "  def longestPalindrome(self, s) :\n",
        "    answer = []\n",
        "    result = \"\"\n",
        "# length is odd\n",
        "    for i in range(len(s)+1) :\n",
        "      for j in range(len(s)) :\n",
        "        if s[i-j:i+1] == s[i:i+j+1][::-1] :\n",
        "          answer.append(s[i-j:i+j+1])\n",
        "\n",
        "# length is even\n",
        "    for i in range(len(s)) :\n",
        "      for j in range(len(s)) :\n",
        "        if s[i-j:i+1] == s[i+1:i+j+2][::-1] : # 1~2 == 3~4[::-1] / i, j = 2, 1\n",
        "          answer.append(s[i-j:i+j+2]) # divided number's length is even\n",
        "\n",
        "# find most long answer\n",
        "    for k in range(len(answer)) :\n",
        "      result == answer[-1-k]\n",
        "      if len(answer[-1-k]) > len(result) :\n",
        "        result = answer[-1-k]\n",
        "\n",
        "    return result\n",
        "\n",
        "# bb 출력 : s[1:2] == s[2:3] / baba : 0~1 = 2~3\n",
        "s = Solution()\n",
        "print(s.longestPalindrome(\"babad\"))\n",
        "print(s.longestPalindrome(\"cbbd\"))"
      ],
      "metadata": {
        "colab": {
          "base_uri": "https://localhost:8080/"
        },
        "id": "LMjKP6xveBHk",
        "outputId": "f82d1df4-f4d8-473d-82cb-5b1c0a2fb899"
      },
      "execution_count": 16,
      "outputs": [
        {
          "output_type": "stream",
          "name": "stdout",
          "text": [
            "aba\n",
            "bb\n"
          ]
        }
      ]
    },
    {
      "cell_type": "code",
      "source": [
        "# +a) Extending pointer\n",
        "# 1. subtract a letter\n",
        "# 2. if letter is Pal_num : stop and extend (left,right)\n",
        "# 3. if extended letter is not Pal_num : go to next index\n",
        "# 4. Repeat 1~3\n",
        "def longestPalindrome(self, s:str) -> str:\n",
        "  def expand(left, right) -> str:\n",
        "    while left >= 0 and right <= len(s) and s[left] == s[right - 1] :\n",
        "      left -= 1\n",
        "      right += 1\n",
        "    return s[left+1 : right-1]\n",
        "\n",
        "  if len(s) < 2 or s == s[::-1] : # Pal_num does not exist\n",
        "    return s\n",
        "\n",
        "  result = ''\n",
        "  for i in range(len(s) - 1) :\n",
        "    result = max(result, expand(i, i+1), expand(i, i+2), key = len)\n",
        "# expand(i,i+2) : length is even\n",
        "\n",
        "  return result"
      ],
      "metadata": {
        "id": "AS_bMzO8egRd"
      },
      "execution_count": 17,
      "outputs": []
    },
    {
      "cell_type": "markdown",
      "source": [
        "# 02_07"
      ],
      "metadata": {
        "id": "Zb_2xf2LelxV"
      }
    },
    {
      "cell_type": "code",
      "source": [
        "# 01. Two Sum\n",
        "# Solution 1 (Runtime 8700ms): Bruit-force\n",
        "# 이중 for문이므로 O(n^2) / for 문은 사용할 때마다 시간 복잡도가 제곱 배수로 커진다\n",
        "class Solution:\n",
        "  def twoSum(self, nums, target) :\n",
        "    for i in range(len(nums)) :\n",
        "      for j in range(len(nums)) :\n",
        "        if i == j : pass\n",
        "        else :\n",
        "          if nums[i] + nums[j] == target :\n",
        "            return [i,j]"
      ],
      "metadata": {
        "id": "EG7Bpptuem1z"
      },
      "execution_count": 18,
      "outputs": []
    },
    {
      "cell_type": "code",
      "source": [
        "# Solution 1-2\n",
        "# 단일 loop -> 시간 복잡도 = O(n)\n",
        "def twoSum(nums: list[int], target: int) -> list[int] :\n",
        "  for i in range(len(nums)) :\n",
        "    if target - nums[i] in nums :\n",
        "      return (i, nums.index(target - nums[i]))\n",
        "\n",
        "twoSum([2, 7, 11, 15], 9)"
      ],
      "metadata": {
        "colab": {
          "base_uri": "https://localhost:8080/"
        },
        "id": "HP3xOKPRepKE",
        "outputId": "68bc4265-709a-4698-da5f-f5b8eef06c26"
      },
      "execution_count": 19,
      "outputs": [
        {
          "output_type": "execute_result",
          "data": {
            "text/plain": [
              "(0, 1)"
            ]
          },
          "metadata": {},
          "execution_count": 19
        }
      ]
    },
    {
      "cell_type": "code",
      "source": [
        "# Solution 2 (Runtime 850ms): serch using 'in'\n",
        "def twoSum(nums:list, target:int) -> list[int]:\n",
        "# -> list[int] : 반환되는 형태를 알려줌\n",
        "\n",
        "# enumerate : extract elements and index\n",
        "# i = index, n = elements\n",
        "  for i, n in enumerate(nums) :\n",
        "    complement = target - n # sum of two numbers is dtarget\n",
        "\n",
        "    if complement in nums[i + 1] : # complemet + n = target (조건 만족)\n",
        "      return nums.index(n), nums[i+1].index(complement) + (i + 1)\n",
        "\n",
        "twoSum([2, 7, 11, 15], 9)"
      ],
      "metadata": {
        "id": "PMvJjOuneqLx"
      },
      "execution_count": null,
      "outputs": []
    },
    {
      "cell_type": "code",
      "source": [
        "def twoSum(self, nums: list[int], target: int) -> list[int]:\n",
        "  nums_map = {}\n",
        "\n",
        "  for i, num in enumerate(nums) :\n",
        "    nums_map[num] = i\n",
        "\n",
        "  for i, num in enumerate(nums) :\n",
        "    if target - num in nums_map and i != nums_map[target - num] :\n",
        "      return nums.index(num), nums_map[target - num]\n",
        "\n",
        "twoSum(0, [2, 7, 11, 15], 9)"
      ],
      "metadata": {
        "colab": {
          "base_uri": "https://localhost:8080/"
        },
        "id": "w4lHIvwjerQF",
        "outputId": "af32e086-93c2-4abd-c00b-b2b21820f743"
      },
      "execution_count": 23,
      "outputs": [
        {
          "output_type": "execute_result",
          "data": {
            "text/plain": [
              "(0, 1)"
            ]
          },
          "metadata": {},
          "execution_count": 23
        }
      ]
    },
    {
      "cell_type": "code",
      "source": [
        "# LeetCode 15. 3Sum\n",
        "def threeSum(nums: list[int]) -> list[list[int]] :\n",
        "  answer, result = [], []\n",
        "  for i in range(len(nums)) :\n",
        "    for j in range(len(nums)) :\n",
        "      if -nums[i]-nums[j] in nums :\n",
        "        k = nums.index(-nums[i]-nums[j])\n",
        "        if i != j and i != k and j != k:\n",
        "          answer.append([nums[i], nums[j], nums[k]])\n",
        "\n",
        "  for i in range(len(answer)) :\n",
        "    answer[i].sort()\n",
        "\n",
        "# del repeated elements\n",
        "  for i in range(len(answer)) :\n",
        "    if answer[i] not in result :\n",
        "      result.append(answer[i])\n",
        "\n",
        "  return result\n",
        "\n",
        "threeSum([-1,0,1,2,-1,-4])\n",
        "\n",
        "# num는 내림차순으로 정렬된 수임\n",
        "# i번째 수를 축으로 정하면, 이보다 왼쪽에 있는 수는"
      ],
      "metadata": {
        "colab": {
          "base_uri": "https://localhost:8080/"
        },
        "id": "IAkHBkTse026",
        "outputId": "5005bcbf-666c-4871-a010-0393fb995335"
      },
      "execution_count": 25,
      "outputs": [
        {
          "output_type": "execute_result",
          "data": {
            "text/plain": [
              "[[-1, 0, 1], [-1, -1, 2]]"
            ]
          },
          "metadata": {},
          "execution_count": 25
        }
      ]
    }
  ]
}