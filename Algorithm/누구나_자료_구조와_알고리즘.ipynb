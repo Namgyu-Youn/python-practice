{
  "nbformat": 4,
  "nbformat_minor": 0,
  "metadata": {
    "colab": {
      "provenance": []
    },
    "kernelspec": {
      "name": "python3",
      "display_name": "Python 3"
    },
    "language_info": {
      "name": "python"
    }
  },
  "cells": [
    {
      "cell_type": "markdown",
      "source": [
        "https://product.kyobobook.co.kr/detail/S000001834743"
      ],
      "metadata": {
        "id": "MBbk5S7iEYiS"
      }
    },
    {
      "cell_type": "code",
      "source": [
        "# 재귀 알고리즘 (! 구현)\n",
        "def factorial(n) :\n",
        "  if n == 1 : return 1\n",
        "  else : return n * factorial(n-1)\n",
        "\n",
        "print(factorial(6))"
      ],
      "metadata": {
        "colab": {
          "base_uri": "https://localhost:8080/"
        },
        "id": "krLPSqC_L_kZ",
        "outputId": "225dc81a-cc13-42bc-a41d-372932a64b0a"
      },
      "execution_count": 1,
      "outputs": [
        {
          "output_type": "stream",
          "name": "stdout",
          "text": [
            "720\n"
          ]
        }
      ]
    },
    {
      "cell_type": "code",
      "execution_count": 2,
      "metadata": {
        "colab": {
          "base_uri": "https://localhost:8080/"
        },
        "id": "HhyI_vurs05N",
        "outputId": "bd0d5236-6f16-46dd-9de2-f65f4d97fdaf"
      },
      "outputs": [
        {
          "output_type": "stream",
          "name": "stdout",
          "text": [
            "[1, 2, 3, 4, 6]\n"
          ]
        }
      ],
      "source": [
        "# 버블 정렬 예제 (p.87)\n",
        "def solution(arr:list) :\n",
        "  arr1 = sorted(arr)\n",
        "  while arr != arr1 :\n",
        "    for i in range(len(arr)-1) :\n",
        "      if arr[i] > arr[i+1] : arr[i], arr[i+1] = arr[i+1], arr[i]\n",
        "\n",
        "  return arr\n",
        "\n",
        "print(solution([3, 1, 6, 4, 2]))"
      ]
    },
    {
      "cell_type": "code",
      "source": [
        "def merge_sort(arr:list) :\n",
        "  # len(arr) > 1 임을 전제로 함\n",
        "  left_arr = arr[:len(arr)//2]\n",
        "  right_arr = arr[len(arr)//2:]\n",
        "\n",
        "  # recursion\n",
        "  while len(left_arr) == 0 and len(right_arr) == 0 :\n",
        "    merge_sort(left_arr)\n",
        "    merge_sort(right_arr)\n",
        "\n",
        "  # merge (Index)\n",
        "  l, r, m = 0, 0, 0 # left_arr, right_arr, merged array\n",
        "  while l < len(left_arr) and r < len(right_arr) :\n",
        "    if left_arr[l] < right_arr[r] :\n",
        "      arr[m] = left_arr[l]\n",
        "      l += 1\n",
        "    else : # same case도 포함\n",
        "      arr[m] = right_arr[r]\n",
        "      r += 1\n",
        "    m += 1\n",
        "\n",
        "  # 남은 부분을 추가\n",
        "  while l < len(left_arr) :\n",
        "    arr[m] = left_arr[l]\n",
        "    l += 1\n",
        "    m += 1\n",
        "  while r < len(right_arr) :\n",
        "    arr[m] = right_arr[r]\n",
        "    r += 1\n",
        "    m += 1\n",
        "\n",
        "  return arr\n",
        "\n",
        "print(merge_sort([2, 1, 3, 4, 8, 3, 2, 1]))"
      ],
      "metadata": {
        "colab": {
          "base_uri": "https://localhost:8080/"
        },
        "id": "pIo0EnRjEjKF",
        "outputId": "5def463e-ad37-40f6-fb2a-b0c131db82a9"
      },
      "execution_count": 4,
      "outputs": [
        {
          "output_type": "stream",
          "name": "stdout",
          "text": [
            "[2, 1, 3, 4, 8, 3, 2, 1]\n"
          ]
        }
      ]
    },
    {
      "cell_type": "code",
      "source": [
        "# Bubble sort\n",
        "def bubble_sort(arr:list) :\n",
        "  i, j = 0, 0\n",
        "  while i != len(arr)-1 :\n",
        "    if arr[i] > arr[i+1] :\n",
        "      arr[i], arr[i+1] = arr[i+1], arr[i]\n",
        "      j += 1\n",
        "    i += 1\n",
        "\n",
        "  if j != 0 :\n",
        "    bubble_sort(arr)\n",
        "\n",
        "  return arr\n",
        "\n",
        "print(bubble_sort([2, 1, 3, 4, 8, 3, 2, 1]))"
      ],
      "metadata": {
        "colab": {
          "base_uri": "https://localhost:8080/"
        },
        "id": "ZzNGgkCTEmG_",
        "outputId": "9096ca5f-0c89-4402-8a17-96f600d23ba0"
      },
      "execution_count": 5,
      "outputs": [
        {
          "output_type": "stream",
          "name": "stdout",
          "text": [
            "[1, 1, 2, 2, 3, 3, 4, 8]\n"
          ]
        }
      ]
    },
    {
      "cell_type": "code",
      "source": [
        "def quick_sort(arr:list) :\n",
        "# index of pivot could be changed. data of pivot should be restored\n",
        "# key : when arr is sorted, (elements of L) < pivot < (elements of R)\n",
        "  if len(arr) <= 1 : return arr\n",
        "  l, r = 0, len(arr)-1\n",
        "\n",
        "# find unsorted-index based in pivot\n",
        "  while arr[l] < arr[0] : l += 1\n",
        "  while arr[r] > arr[0] and l <= r : r -= 1\n",
        "\n",
        "\n",
        "  if l < r :\n",
        "    arr[l], arr[r] = arr[r], arr[l]\n",
        "    return quick_sort(arr) # recursion\n",
        "\n",
        "  elif l >= r : #  all-elements are sorted based in pivot\n",
        "    arr[r], arr[0] = arr[0], arr[r]\n",
        "    return arr[:r] + [arr[r]] + arr[r+1:]\n",
        "\n",
        "\n",
        "quick_sort([5, 3, 8, 4, 9, 1, 6, 2, 7])"
      ],
      "metadata": {
        "colab": {
          "base_uri": "https://localhost:8080/"
        },
        "id": "n_IbU624Eqrg",
        "outputId": "07ea4f0e-b575-4334-8a24-8a0587df5130"
      },
      "execution_count": 6,
      "outputs": [
        {
          "output_type": "execute_result",
          "data": {
            "text/plain": [
              "[1, 3, 8, 4, 9, 2, 6, 5, 7]"
            ]
          },
          "metadata": {},
          "execution_count": 6
        }
      ]
    },
    {
      "cell_type": "code",
      "source": [
        "# 단어 생성기 (p.140)\n",
        "# arr의 element n개의 combination으로 생성 가능한 모든 문자를 나열하라\n",
        "import itertools\n",
        "\n",
        "def solution(arr, n):\n",
        "    combinations = []\n",
        "    for combination in itertools.combinations(arr, n):\n",
        "        combined = ''.join(combination)\n",
        "        combinations.append(combined)\n",
        "    return combinations\n",
        "\n",
        "print(solution([\"a\", \"b\", \"c\", \"d\", \"e\"], 3))"
      ],
      "metadata": {
        "colab": {
          "base_uri": "https://localhost:8080/"
        },
        "id": "U4jeZTrXhOki",
        "outputId": "2fe8e7a3-c65c-49a0-dde8-17976cc06335"
      },
      "execution_count": 7,
      "outputs": [
        {
          "output_type": "stream",
          "name": "stdout",
          "text": [
            "['abc', 'abd', 'abe', 'acd', 'ace', 'ade', 'bcd', 'bce', 'bde', 'cde']\n"
          ]
        }
      ]
    },
    {
      "cell_type": "code",
      "source": [
        "# Palindrome 검사기\n",
        "def solution(s:str) :\n",
        "  answer = list(s)"
      ],
      "metadata": {
        "id": "ALSo4Uw7HpTh"
      },
      "execution_count": 8,
      "outputs": []
    },
    {
      "cell_type": "markdown",
      "source": [
        "8. Hash Table"
      ],
      "metadata": {
        "id": "drzfhJwz5j6v"
      }
    },
    {
      "cell_type": "code",
      "source": [
        "# subset 인지 확인하라 (p.175)\n",
        "s1, s2 = [\"a\", \"b\", \"c\", \"d\"], [\"d\", \"f\", \"h\"]\n",
        "arr1, arr2 = {}, {}\n",
        "\n",
        "for i in range(len(s1)) :\n",
        "  arr1[s1[i]] = True\n",
        "for i in range(len(s2)) :\n",
        "  arr2[s2[i]] = True\n",
        "\n",
        "is_subset = all(key in arr1 for key in arr2.keys())\n",
        "print(is_subset)"
      ],
      "metadata": {
        "colab": {
          "base_uri": "https://localhost:8080/"
        },
        "id": "Ytu8bvSZtf6u",
        "outputId": "fbd684d9-dd40-4976-9659-9c29d062b34c"
      },
      "execution_count": 9,
      "outputs": [
        {
          "output_type": "stream",
          "name": "stdout",
          "text": [
            "False\n"
          ]
        }
      ]
    },
    {
      "cell_type": "code",
      "source": [
        "# 8.10.1 - 교집합을 반환하라\n",
        "s1, s2 = [\"a\", \"b\", \"c\", \"d\"], [\"d\", \"b\", \"h\"]\n",
        "arr1, arr2, answer = {}, {}, []\n",
        "\n",
        "for i in range(len(s1)) :\n",
        "  arr1[s1[i]] = True\n",
        "for i in range(len(s2)) :\n",
        "  arr2[s2[i]] = True\n",
        "\n",
        "print(arr1, arr2)\n",
        "print([arr1[i]z for i in range(len(arr1))])"
      ],
      "metadata": {
        "id": "3qjtlhHuzU6V",
        "colab": {
          "base_uri": "https://localhost:8080/",
          "height": 106
        },
        "outputId": "4f6b326a-5700-4d01-ad54-53aa16f41b84"
      },
      "execution_count": 10,
      "outputs": [
        {
          "output_type": "error",
          "ename": "SyntaxError",
          "evalue": "invalid syntax. Perhaps you forgot a comma? (<ipython-input-10-bab9ca926426>, line 11)",
          "traceback": [
            "\u001b[0;36m  File \u001b[0;32m\"<ipython-input-10-bab9ca926426>\"\u001b[0;36m, line \u001b[0;32m11\u001b[0m\n\u001b[0;31m    print([arr1[i]z for i in range(len(arr1))])\u001b[0m\n\u001b[0m           ^\u001b[0m\n\u001b[0;31mSyntaxError\u001b[0m\u001b[0;31m:\u001b[0m invalid syntax. Perhaps you forgot a comma?\n"
          ]
        }
      ]
    },
    {
      "cell_type": "markdown",
      "source": [
        "11. 재귀적으로 작성하는 법"
      ],
      "metadata": {
        "id": "BxhTovwpt5TB"
      }
    },
    {
      "cell_type": "code",
      "source": [
        "# '!' 를 loop를 없이 구현하기\n",
        "def factorial(n) :\n",
        "  if n == 1 :\n",
        "    return n\n",
        "  else :\n",
        "    return n * factorial(n-1)\n",
        "\n",
        "print(factorial(10))"
      ],
      "metadata": {
        "colab": {
          "base_uri": "https://localhost:8080/"
        },
        "id": "fKrZeJ3IqEBT",
        "outputId": "0f3bfecb-4716-4b72-d14d-a4ac6712b4d3"
      },
      "execution_count": 11,
      "outputs": [
        {
          "output_type": "stream",
          "name": "stdout",
          "text": [
            "3628800\n"
          ]
        }
      ]
    },
    {
      "cell_type": "code",
      "source": [
        "# 11.3.2 배열 합\n",
        "def solution(arr, arr_sum, n) : # n은 Index를 저장하는 역할\n",
        "  if n == len(arr) :\n",
        "    return arr_sum\n",
        "  else : # 전체 sum이 아님\n",
        "    arr_sum += arr[n]\n",
        "    n += 1\n",
        "    return solution(arr, arr_sum, n)\n",
        "\n",
        "print(solution([2, 1, 3, 8, 5], 0, 0))"
      ],
      "metadata": {
        "colab": {
          "base_uri": "https://localhost:8080/"
        },
        "id": "iYT4gmajuSnD",
        "outputId": "66fa1801-711d-4f15-f2d4-75331e3859cd"
      },
      "execution_count": 12,
      "outputs": [
        {
          "output_type": "stream",
          "name": "stdout",
          "text": [
            "19\n"
          ]
        }
      ]
    },
    {
      "cell_type": "code",
      "source": [
        "def solution(arr, i) :\n",
        "  if i != len(arr) :\n",
        "    i += 1\n",
        "    return arr[i-1] + solution(arr, i)\n",
        "  else : return 0 # 마지막에는 return 값에 변화가 없음을 주의하자\n",
        "\n",
        "\n",
        "print(solution([2, 1, 3, 8, 5], 0))"
      ],
      "metadata": {
        "colab": {
          "base_uri": "https://localhost:8080/"
        },
        "id": "FDVflkuJyqvU",
        "outputId": "1777bf07-00a7-42da-e2b2-42ec4f69e995"
      },
      "execution_count": 13,
      "outputs": [
        {
          "output_type": "stream",
          "name": "stdout",
          "text": [
            "19\n"
          ]
        }
      ]
    }
  ]
}